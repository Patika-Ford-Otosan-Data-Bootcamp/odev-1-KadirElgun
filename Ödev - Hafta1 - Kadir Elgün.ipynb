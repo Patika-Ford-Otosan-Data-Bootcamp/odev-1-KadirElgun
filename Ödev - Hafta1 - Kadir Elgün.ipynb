{
 "cells": [
  {
   "cell_type": "markdown",
   "id": "0149d231",
   "metadata": {},
   "source": [
    "## Ödev - 1. Hafta"
   ]
  },
  {
   "cell_type": "code",
   "execution_count": 10,
   "id": "88c6533b",
   "metadata": {},
   "outputs": [
    {
     "name": "stdout",
     "output_type": "stream",
     "text": [
      "30\n"
     ]
    }
   ],
   "source": [
    "#1\n",
    "cocuklar = 5\n",
    "baba = ((cocuklar + 6) * 3) - 3\n",
    "print(baba) "
   ]
  },
  {
   "cell_type": "code",
   "execution_count": 24,
   "id": "78dcd44c",
   "metadata": {},
   "outputs": [
    {
     "name": "stdout",
     "output_type": "stream",
     "text": [
      "VERİ BİLİMi, verilerden değer elde etmek için istatistik, bilimsel yöntemler, yapay zeka (ai) ve veri analizi dahil olmak üzere birçok alanı bir araya getirir. VERİ BİLİMiyle uğraşan kişilere VERİ BİLİMci denir. bu kişiler web, akıllı telefonlar, müşteriler, sensörler ve diğer kaynaklardan toplanan verileri analiz etmek ve bunlardan eyleme dönüştürülebilir içgörüler üretmek amacıyla bir dizi beceriyi bir araya getirir.\n"
     ]
    }
   ],
   "source": [
    "#2\n",
    "txt = \"Veri bilimi, verilerden değer elde etmek için istatistik, bilimsel yöntemler, yapay zeka (AI) ve veri analizi dahil olmak üzere birçok alanı bir araya getirir. Veri Bilimiyle uğraşan kişilere veri bilimci denir. Bu kişiler web, akıllı telefonlar, müşteriler, sensörler ve diğer kaynaklardan toplanan verileri analiz etmek ve bunlardan eyleme dönüştürülebilir içgörüler üretmek amacıyla bir dizi beceriyi bir araya getirir.\"\n",
    "x = txt.lower()\n",
    "x = x.replace(\"veri bilim\", \"VERİ BİLİM\")\n",
    "print(x)"
   ]
  },
  {
   "cell_type": "code",
   "execution_count": 25,
   "id": "33113989",
   "metadata": {},
   "outputs": [
    {
     "name": "stdout",
     "output_type": "stream",
     "text": [
      "Kadir Elgün İstanbul 3.38\n"
     ]
    }
   ],
   "source": [
    "#3\n",
    "print(\"Kadir Elgün İstanbul 3.38\")"
   ]
  },
  {
   "cell_type": "code",
   "execution_count": 46,
   "id": "ac78e203",
   "metadata": {},
   "outputs": [
    {
     "name": "stdout",
     "output_type": "stream",
     "text": [
      "Veri bilimi\n",
      "\n",
      "Veri bilimi\n",
      "\n",
      "Veri bilimi\n",
      "\n",
      "Veri bilimi\n",
      "\n",
      "Veri bilimi\n",
      "\n",
      "Veri bilimi\n",
      "\n",
      "Veri bilimi\n",
      "\n",
      "Veri bilimi\n",
      "\n",
      "Veri bilimi\n",
      "\n",
      "Veri bilimi\n",
      "\n",
      "Veri bilimi\n",
      "\n",
      "alanlardan biridir.\n",
      "\n",
      "alanlardan biridir.\n",
      "\n",
      "alanlardan biridir.\n",
      "\n",
      "alanlardan biridir.\n",
      "\n",
      "alanlardan biridir.\n",
      "\n",
      "alanlardan biridir.\n",
      "\n",
      "alanlardan biridir.\n",
      "\n",
      "alanlardan biridir.\n",
      "\n",
      "alanlardan biridir.\n",
      "\n",
      "alanlardan biridir.\n",
      "\n",
      "alanlardan biridir.\n",
      "\n",
      "alanlardan biridir.\n",
      "\n",
      "alanlardan biridir.\n",
      "\n",
      "alanlardan biridir.\n",
      "\n",
      "alanlardan biridir.\n",
      "\n",
      "alanlardan biridir.\n",
      "\n",
      "alanlardan biridir.\n",
      "\n",
      "alanlardan biridir.\n",
      "\n",
      "alanlardan biridir.\n",
      "\n"
     ]
    }
   ],
   "source": [
    "#4\n",
    "txt = \"Veri bilimi günümüzün en heyecan verici alanlardan biridir.\"\n",
    "kelime1 = txt[:11]\n",
    "kelime2 = txt[40:]\n",
    "\n",
    "for x in range(len(kelime1)):\n",
    "    print(kelime1 + \"\\n\")\n",
    "    \n",
    "for x in range(len(kelime2)):\n",
    "    print(kelime2 + \"\\n\")"
   ]
  },
  {
   "cell_type": "code",
   "execution_count": 61,
   "id": "0583c585",
   "metadata": {},
   "outputs": [
    {
     "name": "stdout",
     "output_type": "stream",
     "text": [
      "veri bilimi is lower: True\n",
      "VERI BILIMI is upper: True\n"
     ]
    }
   ],
   "source": [
    "#5\n",
    "a = \"Veri Bilimi\"\n",
    "a = a.lower()\n",
    "print(a , \"is lower: \" + str(a.islower()))\n",
    "a = a.upper()\n",
    "print(a , \"is upper: \" + str(a.isupper()))"
   ]
  },
  {
   "cell_type": "code",
   "execution_count": 66,
   "id": "4007ccb1",
   "metadata": {},
   "outputs": [],
   "source": [
    "#6\n",
    "listem = [\"Kadir\", \"Elgün\", 23, \"Istanbul\", 3.38]"
   ]
  },
  {
   "cell_type": "code",
   "execution_count": 67,
   "id": "dce97299",
   "metadata": {},
   "outputs": [
    {
     "name": "stdout",
     "output_type": "stream",
     "text": [
      "[23, 'Istanbul', 3.38]\n"
     ]
    }
   ],
   "source": [
    "#7\n",
    "listem2 =  listem[2:]\n",
    "print(listem2)\n",
    "    "
   ]
  },
  {
   "cell_type": "code",
   "execution_count": 68,
   "id": "78559e04",
   "metadata": {},
   "outputs": [
    {
     "name": "stdout",
     "output_type": "stream",
     "text": [
      "<class 'int'>\n",
      "<class 'str'>\n",
      "<class 'float'>\n"
     ]
    }
   ],
   "source": [
    "#8\n",
    "for x in range(len(listem2)):\n",
    "    print(type(listem2[x]))"
   ]
  },
  {
   "cell_type": "code",
   "execution_count": 69,
   "id": "2de1bd5f",
   "metadata": {},
   "outputs": [
    {
     "name": "stdout",
     "output_type": "stream",
     "text": [
      "[23, 'Istanbul', 3.38, ['Ali', 90, 'Mehmet']]\n"
     ]
    }
   ],
   "source": [
    "#9\n",
    "eklenecek_liste = [\"Ali\", 90, \"Mehmet\"]\n",
    "listem2.append(eklenecek_liste)\n",
    "print(listem2)"
   ]
  },
  {
   "cell_type": "code",
   "execution_count": 71,
   "id": "c5373279",
   "metadata": {},
   "outputs": [
    {
     "name": "stdout",
     "output_type": "stream",
     "text": [
      "['Ali', 90]\n"
     ]
    }
   ],
   "source": [
    "#10\n",
    "listem3 = listem2[3][:2]\n",
    "print(listem3)"
   ]
  },
  {
   "cell_type": "code",
   "execution_count": 72,
   "id": "afd02b69",
   "metadata": {},
   "outputs": [
    {
     "name": "stdout",
     "output_type": "stream",
     "text": [
      "[23, 'Istanbul', 3.38, ['Ali', 90, 'Mehmet'], 'Ali', 90]\n"
     ]
    }
   ],
   "source": [
    "#11\n",
    "listem2.extend(listem3)\n",
    "print(listem2)"
   ]
  },
  {
   "cell_type": "code",
   "execution_count": 73,
   "id": "d255b031",
   "metadata": {},
   "outputs": [
    {
     "name": "stdout",
     "output_type": "stream",
     "text": [
      "[23, 'Istanbul', 3.38, ['Ali', 90, 'Mehmet'], 'Ali']\n"
     ]
    }
   ],
   "source": [
    "#12\n",
    "del listem2[-1]\n",
    "print(listem2)"
   ]
  },
  {
   "cell_type": "code",
   "execution_count": 84,
   "id": "367aa583",
   "metadata": {},
   "outputs": [
    {
     "name": "stdout",
     "output_type": "stream",
     "text": [
      "[10, 9, 8, 7, 6, 5, 4, 3, 2, 1]\n"
     ]
    }
   ],
   "source": [
    "#13\n",
    "yeni_liste = list()\n",
    "for n in range(10,0,-1):\n",
    "    yeni_liste.append(n)\n",
    "print(yeni_liste)"
   ]
  },
  {
   "cell_type": "code",
   "execution_count": 87,
   "id": "4e5af6cf",
   "metadata": {},
   "outputs": [
    {
     "name": "stdout",
     "output_type": "stream",
     "text": [
      "7'nin indexi:3\n",
      "2'nin indexi:8\n"
     ]
    }
   ],
   "source": [
    "#14\n",
    "print(\"7'nin indexi:\" + str(yeni_liste.index(7)))  \n",
    "print(\"2'nin indexi:\" + str(yeni_liste.index(2))) "
   ]
  },
  {
   "cell_type": "code",
   "execution_count": 90,
   "id": "6477526e",
   "metadata": {},
   "outputs": [
    {
     "name": "stdout",
     "output_type": "stream",
     "text": [
      "(23, 'Istanbul', 3.38, ['Ali', 90, 'Mehmet'], 'Ali')\n"
     ]
    }
   ],
   "source": [
    "#15\n",
    "tuple1 = tuple(listem2)\n",
    "print(tuple1)"
   ]
  },
  {
   "cell_type": "code",
   "execution_count": 206,
   "id": "017f932d",
   "metadata": {},
   "outputs": [
    {
     "ename": "TypeError",
     "evalue": "'tuple' object does not support item assignment",
     "output_type": "error",
     "traceback": [
      "\u001b[1;31m---------------------------------------------------------------------------\u001b[0m",
      "\u001b[1;31mTypeError\u001b[0m                                 Traceback (most recent call last)",
      "\u001b[1;32m~\\AppData\\Local\\Temp/ipykernel_10468/341047671.py\u001b[0m in \u001b[0;36m<module>\u001b[1;34m\u001b[0m\n\u001b[0;32m      1\u001b[0m \u001b[1;31m#16\u001b[0m\u001b[1;33m\u001b[0m\u001b[1;33m\u001b[0m\u001b[1;33m\u001b[0m\u001b[0m\n\u001b[0;32m      2\u001b[0m \u001b[1;31m#tuples are not mutable!!\u001b[0m\u001b[1;33m\u001b[0m\u001b[1;33m\u001b[0m\u001b[1;33m\u001b[0m\u001b[0m\n\u001b[1;32m----> 3\u001b[1;33m \u001b[0mtuple1\u001b[0m\u001b[1;33m[\u001b[0m\u001b[1;33m-\u001b[0m\u001b[1;36m1\u001b[0m\u001b[1;33m]\u001b[0m \u001b[1;33m=\u001b[0m \u001b[1;34m\"Veli\"\u001b[0m\u001b[1;33m\u001b[0m\u001b[1;33m\u001b[0m\u001b[0m\n\u001b[0m",
      "\u001b[1;31mTypeError\u001b[0m: 'tuple' object does not support item assignment"
     ]
    }
   ],
   "source": [
    "#16\n",
    "#tuples are not mutable!!\n",
    "tuple1[-1] = \"Veli\""
   ]
  },
  {
   "cell_type": "code",
   "execution_count": 95,
   "id": "83f5de72",
   "metadata": {},
   "outputs": [
    {
     "name": "stdout",
     "output_type": "stream",
     "text": [
      "(10, 9, 8, 7, 6, 5, 4, 3, 2, 1)\n"
     ]
    }
   ],
   "source": [
    "#17\n",
    "yeni_tuple = tuple()\n",
    "for n in range(10,0,-1):\n",
    "    yeni_tuple = yeni_tuple + (n,)\n",
    "print(yeni_tuple)"
   ]
  },
  {
   "cell_type": "code",
   "execution_count": 96,
   "id": "1e0087e0",
   "metadata": {},
   "outputs": [
    {
     "name": "stdout",
     "output_type": "stream",
     "text": [
      "7'nin indexi:3\n",
      "2'nin indexi:8\n"
     ]
    }
   ],
   "source": [
    "#18\n",
    "print(\"7'nin indexi:\" + str(yeni_tuple.index(7)))  \n",
    "print(\"2'nin indexi:\" + str(yeni_tuple.index(2))) "
   ]
  },
  {
   "cell_type": "code",
   "execution_count": 109,
   "id": "62c4053a",
   "metadata": {},
   "outputs": [
    {
     "name": "stdout",
     "output_type": "stream",
     "text": [
      "{10, 20}\n"
     ]
    }
   ],
   "source": [
    "#19\n",
    "dictionary = {\"REG\" : [\"RMSE\",10],\n",
    "              \"LOJ\" : [\"MSE\", 20],\n",
    "              \"CART\" : [\"SSE\",30]}\n",
    "\n",
    "setim = {dictionary[\"REG\"][1],dictionary[\"LOJ\"][1]}\n",
    "print(setim)"
   ]
  },
  {
   "cell_type": "code",
   "execution_count": 110,
   "id": "99546f96",
   "metadata": {},
   "outputs": [
    {
     "name": "stdout",
     "output_type": "stream",
     "text": [
      "{'REG': ['RMSE', 10], 'LOJ': ['MSE', 20], 'CART': ['SSE', 30]}\n"
     ]
    }
   ],
   "source": [
    "#20\n",
    "dictionary[\"CART\"] = [\"SSE\", 30]\n",
    "print(dictionary)"
   ]
  },
  {
   "cell_type": "code",
   "execution_count": 111,
   "id": "3a8c245e",
   "metadata": {},
   "outputs": [
    {
     "name": "stdout",
     "output_type": "stream",
     "text": [
      "{'REG': ['RMSE', 10], 'LOJ': ['MSE', 20], 'CART': ['SSE', 30], 'RF': ['SSE', 50]}\n"
     ]
    }
   ],
   "source": [
    "#21\n",
    "dictionary[\"RF\"] = [\"SSE\", 50]\n",
    "print(dictionary)"
   ]
  },
  {
   "cell_type": "code",
   "execution_count": 125,
   "id": "fc1f7cc0",
   "metadata": {},
   "outputs": [
    {
     "name": "stdout",
     "output_type": "stream",
     "text": [
      "{'Ayşe', 10, 'Ali', 20, 'Mehmet'}\n"
     ]
    },
    {
     "data": {
      "text/plain": [
       "5"
      ]
     },
     "execution_count": 125,
     "metadata": {},
     "output_type": "execute_result"
    }
   ],
   "source": [
    "#22\n",
    "liste1 = [10, 20, 10, \"Ali\", 10, \"Ali\", \"Mehmet\", 20, \"Ayşe\" ]\n",
    "set1 = set(liste1)\n",
    "print(set1)\n",
    "len(set1)"
   ]
  },
  {
   "cell_type": "code",
   "execution_count": 126,
   "id": "b9762a2e",
   "metadata": {},
   "outputs": [
    {
     "ename": "TypeError",
     "evalue": "'set' object is not subscriptable",
     "output_type": "error",
     "traceback": [
      "\u001b[1;31m---------------------------------------------------------------------------\u001b[0m",
      "\u001b[1;31mTypeError\u001b[0m                                 Traceback (most recent call last)",
      "\u001b[1;32m~\\AppData\\Local\\Temp/ipykernel_10468/92793448.py\u001b[0m in \u001b[0;36m<module>\u001b[1;34m\u001b[0m\n\u001b[0;32m      1\u001b[0m \u001b[1;31m#23\u001b[0m\u001b[1;33m\u001b[0m\u001b[1;33m\u001b[0m\u001b[1;33m\u001b[0m\u001b[0m\n\u001b[1;32m----> 2\u001b[1;33m \u001b[0mset1\u001b[0m\u001b[1;33m[\u001b[0m\u001b[1;36m5\u001b[0m\u001b[1;33m]\u001b[0m\u001b[1;33m\u001b[0m\u001b[1;33m\u001b[0m\u001b[0m\n\u001b[0m\u001b[0;32m      3\u001b[0m \u001b[0mset1\u001b[0m\u001b[1;33m[\u001b[0m\u001b[1;36m7\u001b[0m\u001b[1;33m]\u001b[0m\u001b[1;33m\u001b[0m\u001b[1;33m\u001b[0m\u001b[0m\n",
      "\u001b[1;31mTypeError\u001b[0m: 'set' object is not subscriptable"
     ]
    }
   ],
   "source": [
    "#23\n",
    "set1[5]\n",
    "set1[7]\n",
    "#setler indexli değildir"
   ]
  },
  {
   "cell_type": "code",
   "execution_count": 124,
   "id": "e3aa35bc",
   "metadata": {},
   "outputs": [
    {
     "name": "stdout",
     "output_type": "stream",
     "text": [
      "{'Ayşe', 40, 20, 'Mehmet', 'Veli'}\n"
     ]
    }
   ],
   "source": [
    "#24\n",
    "set1.remove(\"Ali\")\n",
    "set1.add(\"Veli\")\n",
    "set1.remove(10)\n",
    "set1.add(40)\n",
    "\n",
    "print(set1)"
   ]
  },
  {
   "cell_type": "code",
   "execution_count": 127,
   "id": "2e4a60bf",
   "metadata": {},
   "outputs": [
    {
     "data": {
      "text/plain": [
       "{5}"
      ]
     },
     "execution_count": 127,
     "metadata": {},
     "output_type": "execute_result"
    }
   ],
   "source": [
    "#25.1\n",
    "set1 = set([1, 3, 5])\n",
    "set2 = set([1, 2, 3])\n",
    "\n",
    "set1.difference(set2)"
   ]
  },
  {
   "cell_type": "code",
   "execution_count": 128,
   "id": "03a0b2e7",
   "metadata": {},
   "outputs": [
    {
     "data": {
      "text/plain": [
       "{2}"
      ]
     },
     "execution_count": 128,
     "metadata": {},
     "output_type": "execute_result"
    }
   ],
   "source": [
    "#25.2\n",
    "set2.difference(set1)"
   ]
  },
  {
   "cell_type": "code",
   "execution_count": 129,
   "id": "64d8162c",
   "metadata": {},
   "outputs": [
    {
     "data": {
      "text/plain": [
       "{2, 5}"
      ]
     },
     "execution_count": 129,
     "metadata": {},
     "output_type": "execute_result"
    }
   ],
   "source": [
    "#25.3\n",
    "set1.symmetric_difference(set2)"
   ]
  },
  {
   "cell_type": "code",
   "execution_count": 130,
   "id": "6e976c18",
   "metadata": {},
   "outputs": [
    {
     "data": {
      "text/plain": [
       "{1, 3}"
      ]
     },
     "execution_count": 130,
     "metadata": {},
     "output_type": "execute_result"
    }
   ],
   "source": [
    "#25.4\n",
    "set1.intersection(set2)"
   ]
  },
  {
   "cell_type": "code",
   "execution_count": 131,
   "id": "b29443c6",
   "metadata": {},
   "outputs": [
    {
     "data": {
      "text/plain": [
       "{1, 2, 3, 5}"
      ]
     },
     "execution_count": 131,
     "metadata": {},
     "output_type": "execute_result"
    }
   ],
   "source": [
    "#25.5\n",
    "set1.union(set2)"
   ]
  },
  {
   "cell_type": "code",
   "execution_count": 132,
   "id": "085890db",
   "metadata": {},
   "outputs": [
    {
     "data": {
      "text/plain": [
       "False"
      ]
     },
     "execution_count": 132,
     "metadata": {},
     "output_type": "execute_result"
    }
   ],
   "source": [
    "#25.6\n",
    "set1.isdisjoint(set2)"
   ]
  },
  {
   "cell_type": "code",
   "execution_count": 133,
   "id": "e48d083a",
   "metadata": {},
   "outputs": [
    {
     "data": {
      "text/plain": [
       "False"
      ]
     },
     "execution_count": 133,
     "metadata": {},
     "output_type": "execute_result"
    }
   ],
   "source": [
    "#25.7\n",
    "set1.issubset(set2)"
   ]
  },
  {
   "cell_type": "code",
   "execution_count": 134,
   "id": "e18d0562",
   "metadata": {},
   "outputs": [
    {
     "data": {
      "text/plain": [
       "False"
      ]
     },
     "execution_count": 134,
     "metadata": {},
     "output_type": "execute_result"
    }
   ],
   "source": [
    "#25.8\n",
    "set1.issuperset(set2)"
   ]
  },
  {
   "cell_type": "code",
   "execution_count": 141,
   "id": "378b8b2a",
   "metadata": {},
   "outputs": [
    {
     "name": "stdout",
     "output_type": "stream",
     "text": [
      "[1200.0, 2400.0, 3600.0, 4800.0, 6000.0]\n"
     ]
    }
   ],
   "source": [
    "#26\n",
    "def zam_yap(maaslar):\n",
    "    for x in range(len(maaslar)):\n",
    "        maaslar[x] = maaslar[x] * 1.2\n",
    "    return maaslar\n",
    "\n",
    "maaslar = [1000,2000,3000,4000,5000]\n",
    "zamlı_maaslar = zam_yap(maaslar)\n",
    "print(zamlı_maaslar)"
   ]
  },
  {
   "cell_type": "code",
   "execution_count": 143,
   "id": "0140d564",
   "metadata": {},
   "outputs": [
    {
     "name": "stdout",
     "output_type": "stream",
     "text": [
      "[1100.0, 2350.0, 3500.0, 4700.0, 5900.0]\n"
     ]
    }
   ],
   "source": [
    "#27\n",
    "def vergi_kes(maaslar):\n",
    "    for x in range(len(maaslar)):\n",
    "        if maaslar[x] < 2500:\n",
    "            maaslar[x] -= 50\n",
    "        else:\n",
    "            maaslar[x] -= 100\n",
    "    return maaslar\n",
    "\n",
    "net_maas = vergi_kes(zamlı_maaslar)\n",
    "print(net_maas)"
   ]
  },
  {
   "cell_type": "code",
   "execution_count": 200,
   "id": "d7e96e46",
   "metadata": {},
   "outputs": [
    {
     "name": "stdout",
     "output_type": "stream",
     "text": [
      "(['John', 'Mark'], ['Venessa', 'Mariam'])\n"
     ]
    }
   ],
   "source": [
    "#28 \n",
    "def grupla(students):\n",
    "    liste1 = []\n",
    "    liste2 = []\n",
    "    for x in range(len(students)):\n",
    "        if x < len(students)/2:\n",
    "            liste1.append(students[x])\n",
    "        else:\n",
    "            liste2.append(students[x])\n",
    "            \n",
    "    return liste1,liste2\n",
    "    \n",
    "\n",
    "students = [\"John\", \"Mark\", \"Venessa\", \"Mariam\"]\n",
    "new_students = grupla(students)\n",
    "print(new_students)\n"
   ]
  },
  {
   "cell_type": "code",
   "execution_count": 202,
   "id": "e02e1c00",
   "metadata": {},
   "outputs": [
    {
     "name": "stdout",
     "output_type": "stream",
     "text": [
      "Hi mY NaMe iS JoHn aNd i aM LeArNiNg pYtHoN\n"
     ]
    }
   ],
   "source": [
    "#29\n",
    "def upperLower(string):\n",
    "    temp = \"\"\n",
    "\n",
    "    for x in range(len(string)):\n",
    "        if x % 2 == 0:\n",
    "            temp += string[x].upper()\n",
    "        else:\n",
    "            temp += string[x].lower()\n",
    "    return temp\n",
    "\n",
    "txt = \"hi my name is john and i am learning python\"\n",
    "new_txt = upperLower(txt)\n",
    "print(new_txt)"
   ]
  },
  {
   "cell_type": "code",
   "execution_count": 205,
   "id": "1a3650c2",
   "metadata": {},
   "outputs": [
    {
     "name": "stdout",
     "output_type": "stream",
     "text": [
      "Hi mY NaMe iS JoHn aNd i aM LeArNiNg pYtHoN\n"
     ]
    }
   ],
   "source": [
    "#30\n",
    "def upperLower(txt):\n",
    "    temp = \"\" \n",
    "    for index, txt in enumerate(txt):\n",
    "        if index % 2 == 0:\n",
    "            temp += txt.upper()\n",
    "        else:\n",
    "            temp += txt.lower()       \n",
    "    return temp\n",
    "\n",
    "before = \"hi my name is john and i am learning python\"\n",
    "before = upperLower(before)\n",
    "print(before)"
   ]
  },
  {
   "cell_type": "code",
   "execution_count": 179,
   "id": "4228463d",
   "metadata": {},
   "outputs": [
    {
     "name": "stdout",
     "output_type": "stream",
     "text": [
      "Lütfen isminizi giriniz: kadir\n",
      "Lütfen yaşınızı giriniz: 23\n",
      "Merhaba benim ismim kadir,\n",
      "23 yaşındayım.\n"
     ]
    }
   ],
   "source": [
    "#31\n",
    "name = input(\"Lütfen isminizi giriniz: \")\n",
    "age = input(\"Lütfen yaşınızı giriniz: \")\n",
    "\n",
    "print(\"Merhaba benim ismim \" + name + \",\\n\" + age + \" yaşındayım.\")"
   ]
  },
  {
   "cell_type": "code",
   "execution_count": null,
   "id": "0a37e203",
   "metadata": {},
   "outputs": [],
   "source": []
  }
 ],
 "metadata": {
  "kernelspec": {
   "display_name": "Python 3 (ipykernel)",
   "language": "python",
   "name": "python3"
  },
  "language_info": {
   "codemirror_mode": {
    "name": "ipython",
    "version": 3
   },
   "file_extension": ".py",
   "mimetype": "text/x-python",
   "name": "python",
   "nbconvert_exporter": "python",
   "pygments_lexer": "ipython3",
   "version": "3.8.12"
  }
 },
 "nbformat": 4,
 "nbformat_minor": 5
}
